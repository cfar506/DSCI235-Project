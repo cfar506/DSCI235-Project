{
  "cells": [
    {
      "cell_type": "code",
      "execution_count": 1,
      "metadata": {
        "id": "uJYtq-2iVaZy"
      },
      "outputs": [],
      "source": [
        "import numpy as np\n",
        "import pandas as pd\n",
        "import os"
      ]
    },
    {
      "cell_type": "code",
      "execution_count": 2,
      "metadata": {},
      "outputs": [],
      "source": [
        "os.chdir('/Users/cody/Documents/GitHub/DSCI235-Project/235_Project')"
      ]
    },
    {
      "cell_type": "code",
      "execution_count": 3,
      "metadata": {
        "id": "mimtwXJjVoqx"
      },
      "outputs": [],
      "source": [
        "h1 = pd.read_csv('csv/1819_Hockey.txt')\n",
        "h2 = pd.read_csv('csv/1920_Hockey.txt')\n",
        "h3 = pd.read_csv('csv/2021_Hockey.txt')\n",
        "h4 = pd.read_csv('csv/21-22 Season.txt')\n",
        "h5 = pd.read_csv('csv/2223_Hockey.txt')\n",
        "h6 = pd.read_csv('csv/23-24 Season.txt')\n",
        "\n",
        "#Equivalent of Cbind in r\n",
        "#pd.concat([a,b], axis=1)\n",
        "\n",
        "hockey_df = pd.concat([h1,h2,h3,h4,h5,h6], axis=0)\n",
        "hockey_df = hockey_df.drop(columns = ['-9999'])"
      ]
    },
    {
      "cell_type": "code",
      "execution_count": 4,
      "metadata": {
        "colab": {
          "base_uri": "https://localhost:8080/"
        },
        "id": "9gdmJztPX4b2",
        "outputId": "f47cc9af-baa1-42d6-d6e2-c879ff427e73"
      },
      "outputs": [
        {
          "data": {
            "text/plain": [
              "6490"
            ]
          },
          "execution_count": 4,
          "metadata": {},
          "output_type": "execute_result"
        }
      ],
      "source": [
        "len(hockey_df)"
      ]
    },
    {
      "cell_type": "code",
      "execution_count": 5,
      "metadata": {
        "colab": {
          "base_uri": "https://localhost:8080/"
        },
        "id": "nc2Xj_c2X7BM",
        "outputId": "bba37169-16c8-400d-e2ab-f67a513bf104"
      },
      "outputs": [
        {
          "name": "stdout",
          "output_type": "stream",
          "text": [
            "Pos\n",
            "D        2232\n",
            "C        1995\n",
            "LW       1034\n",
            "RW        832\n",
            "F         213\n",
            "C/LW       69\n",
            "C/RW       45\n",
            "LW/C       21\n",
            "W          16\n",
            "C/W        12\n",
            "D/RW       11\n",
            "RW/C        7\n",
            "LW/RW       2\n",
            "W/C         1\n",
            "Name: count, dtype: int64\n"
          ]
        }
      ],
      "source": [
        "hockey_df['Pos'].unique()\n",
        "\n",
        "#To get the number of players in each position hockey_df['Pos'].value_counts()\n",
        "print(hockey_df['Pos'].value_counts())"
      ]
    },
    {
      "cell_type": "code",
      "execution_count": 6,
      "metadata": {
        "id": "adSuSMA6aWIC"
      },
      "outputs": [],
      "source": [
        "hockey_df['F'] = np.where(hockey_df['Pos'].str.contains('F'), 1, 0)\n",
        "hockey_df['D'] = np.where(hockey_df['Pos'].str.contains('D'), 1, 0)\n",
        "hockey_df['C'] = np.where(hockey_df['Pos'].str.contains('C'), 1, 0)\n",
        "hockey_df['W'] = np.where(hockey_df['Pos'].str.contains('W'), 1, 0)"
      ]
    },
    {
      "cell_type": "code",
      "execution_count": 7,
      "metadata": {
        "colab": {
          "base_uri": "https://localhost:8080/",
          "height": 457
        },
        "id": "hu-qClefbgUu",
        "outputId": "0c9efc9f-f920-4eb2-bbb3-576901283489"
      },
      "outputs": [
        {
          "data": {
            "text/html": [
              "<div>\n",
              "<style scoped>\n",
              "    .dataframe tbody tr th:only-of-type {\n",
              "        vertical-align: middle;\n",
              "    }\n",
              "\n",
              "    .dataframe tbody tr th {\n",
              "        vertical-align: top;\n",
              "    }\n",
              "\n",
              "    .dataframe thead th {\n",
              "        text-align: right;\n",
              "    }\n",
              "</style>\n",
              "<table border=\"1\" class=\"dataframe\">\n",
              "  <thead>\n",
              "    <tr style=\"text-align: right;\">\n",
              "      <th></th>\n",
              "      <th>Rk</th>\n",
              "      <th>Player</th>\n",
              "      <th>Age</th>\n",
              "      <th>Tm</th>\n",
              "      <th>Pos</th>\n",
              "      <th>GP</th>\n",
              "      <th>CF</th>\n",
              "      <th>CA</th>\n",
              "      <th>CF%</th>\n",
              "      <th>CF% rel</th>\n",
              "      <th>...</th>\n",
              "      <th>TOI(EV)</th>\n",
              "      <th>TK</th>\n",
              "      <th>GV</th>\n",
              "      <th>E+/-</th>\n",
              "      <th>SAtt.</th>\n",
              "      <th>Thru%</th>\n",
              "      <th>F</th>\n",
              "      <th>D</th>\n",
              "      <th>C</th>\n",
              "      <th>W</th>\n",
              "    </tr>\n",
              "  </thead>\n",
              "  <tbody>\n",
              "    <tr>\n",
              "      <th>48</th>\n",
              "      <td>43</td>\n",
              "      <td>Jay Beagle</td>\n",
              "      <td>33.0</td>\n",
              "      <td>VAN</td>\n",
              "      <td>RW/C</td>\n",
              "      <td>57</td>\n",
              "      <td>451</td>\n",
              "      <td>665</td>\n",
              "      <td>40.4</td>\n",
              "      <td>-9.3</td>\n",
              "      <td>...</td>\n",
              "      <td>10:56</td>\n",
              "      <td>13</td>\n",
              "      <td>10</td>\n",
              "      <td>-8.5</td>\n",
              "      <td>71.0</td>\n",
              "      <td>63.4</td>\n",
              "      <td>0</td>\n",
              "      <td>0</td>\n",
              "      <td>1</td>\n",
              "      <td>1</td>\n",
              "    </tr>\n",
              "    <tr>\n",
              "      <th>47</th>\n",
              "      <td>42</td>\n",
              "      <td>Jay Beagle</td>\n",
              "      <td>34.0</td>\n",
              "      <td>VAN</td>\n",
              "      <td>RW/C</td>\n",
              "      <td>55</td>\n",
              "      <td>379</td>\n",
              "      <td>637</td>\n",
              "      <td>37.3</td>\n",
              "      <td>-13.4</td>\n",
              "      <td>...</td>\n",
              "      <td>9:29</td>\n",
              "      <td>14</td>\n",
              "      <td>7</td>\n",
              "      <td>-10.1</td>\n",
              "      <td>73.0</td>\n",
              "      <td>67.1</td>\n",
              "      <td>0</td>\n",
              "      <td>0</td>\n",
              "      <td>1</td>\n",
              "      <td>1</td>\n",
              "    </tr>\n",
              "    <tr>\n",
              "      <th>53</th>\n",
              "      <td>50</td>\n",
              "      <td>Jay Beagle</td>\n",
              "      <td>35.0</td>\n",
              "      <td>VAN</td>\n",
              "      <td>RW/C</td>\n",
              "      <td>30</td>\n",
              "      <td>226</td>\n",
              "      <td>262</td>\n",
              "      <td>46.3</td>\n",
              "      <td>-2.0</td>\n",
              "      <td>...</td>\n",
              "      <td>9:15</td>\n",
              "      <td>11</td>\n",
              "      <td>4</td>\n",
              "      <td>-2.5</td>\n",
              "      <td>38.0</td>\n",
              "      <td>55.3</td>\n",
              "      <td>0</td>\n",
              "      <td>0</td>\n",
              "      <td>1</td>\n",
              "      <td>1</td>\n",
              "    </tr>\n",
              "    <tr>\n",
              "      <th>64</th>\n",
              "      <td>49</td>\n",
              "      <td>Jay Beagle</td>\n",
              "      <td>36.0</td>\n",
              "      <td>ARI</td>\n",
              "      <td>RW/C</td>\n",
              "      <td>33</td>\n",
              "      <td>270</td>\n",
              "      <td>389</td>\n",
              "      <td>41.0</td>\n",
              "      <td>-5.8</td>\n",
              "      <td>...</td>\n",
              "      <td>11:36</td>\n",
              "      <td>9</td>\n",
              "      <td>7</td>\n",
              "      <td>-9.5</td>\n",
              "      <td>40.0</td>\n",
              "      <td>60.0</td>\n",
              "      <td>0</td>\n",
              "      <td>0</td>\n",
              "      <td>1</td>\n",
              "      <td>1</td>\n",
              "    </tr>\n",
              "    <tr>\n",
              "      <th>239</th>\n",
              "      <td>195</td>\n",
              "      <td>Justin Danforth</td>\n",
              "      <td>28.0</td>\n",
              "      <td>CBJ</td>\n",
              "      <td>RW/C</td>\n",
              "      <td>45</td>\n",
              "      <td>504</td>\n",
              "      <td>481</td>\n",
              "      <td>51.2</td>\n",
              "      <td>4.1</td>\n",
              "      <td>...</td>\n",
              "      <td>11:48</td>\n",
              "      <td>15</td>\n",
              "      <td>2</td>\n",
              "      <td>-5.8</td>\n",
              "      <td>131.0</td>\n",
              "      <td>55.0</td>\n",
              "      <td>0</td>\n",
              "      <td>0</td>\n",
              "      <td>1</td>\n",
              "      <td>1</td>\n",
              "    </tr>\n",
              "    <tr>\n",
              "      <th>217</th>\n",
              "      <td>182</td>\n",
              "      <td>Justin Danforth</td>\n",
              "      <td>29.0</td>\n",
              "      <td>CBJ</td>\n",
              "      <td>RW/C</td>\n",
              "      <td>6</td>\n",
              "      <td>70</td>\n",
              "      <td>67</td>\n",
              "      <td>51.1</td>\n",
              "      <td>6.9</td>\n",
              "      <td>...</td>\n",
              "      <td>10:56</td>\n",
              "      <td>1</td>\n",
              "      <td>1</td>\n",
              "      <td>0.5</td>\n",
              "      <td>20.0</td>\n",
              "      <td>50.0</td>\n",
              "      <td>0</td>\n",
              "      <td>0</td>\n",
              "      <td>1</td>\n",
              "      <td>1</td>\n",
              "    </tr>\n",
              "    <tr>\n",
              "      <th>194</th>\n",
              "      <td>171</td>\n",
              "      <td>Justin Danforth</td>\n",
              "      <td>30.0</td>\n",
              "      <td>CBJ</td>\n",
              "      <td>RW/C</td>\n",
              "      <td>71</td>\n",
              "      <td>870</td>\n",
              "      <td>982</td>\n",
              "      <td>47.0</td>\n",
              "      <td>-1.4</td>\n",
              "      <td>...</td>\n",
              "      <td>12:35</td>\n",
              "      <td>27</td>\n",
              "      <td>12</td>\n",
              "      <td>-5.4</td>\n",
              "      <td>174.0</td>\n",
              "      <td>49.4</td>\n",
              "      <td>0</td>\n",
              "      <td>0</td>\n",
              "      <td>1</td>\n",
              "      <td>1</td>\n",
              "    </tr>\n",
              "  </tbody>\n",
              "</table>\n",
              "<p>7 rows × 30 columns</p>\n",
              "</div>"
            ],
            "text/plain": [
              "      Rk           Player   Age   Tm   Pos  GP   CF   CA   CF%  CF% rel  ...  \\\n",
              "48    43       Jay Beagle  33.0  VAN  RW/C  57  451  665  40.4     -9.3  ...   \n",
              "47    42       Jay Beagle  34.0  VAN  RW/C  55  379  637  37.3    -13.4  ...   \n",
              "53    50       Jay Beagle  35.0  VAN  RW/C  30  226  262  46.3     -2.0  ...   \n",
              "64    49       Jay Beagle  36.0  ARI  RW/C  33  270  389  41.0     -5.8  ...   \n",
              "239  195  Justin Danforth  28.0  CBJ  RW/C  45  504  481  51.2      4.1  ...   \n",
              "217  182  Justin Danforth  29.0  CBJ  RW/C   6   70   67  51.1      6.9  ...   \n",
              "194  171  Justin Danforth  30.0  CBJ  RW/C  71  870  982  47.0     -1.4  ...   \n",
              "\n",
              "     TOI(EV)  TK  GV  E+/-  SAtt.  Thru%  F  D  C  W  \n",
              "48     10:56  13  10  -8.5   71.0   63.4  0  0  1  1  \n",
              "47      9:29  14   7 -10.1   73.0   67.1  0  0  1  1  \n",
              "53      9:15  11   4  -2.5   38.0   55.3  0  0  1  1  \n",
              "64     11:36   9   7  -9.5   40.0   60.0  0  0  1  1  \n",
              "239    11:48  15   2  -5.8  131.0   55.0  0  0  1  1  \n",
              "217    10:56   1   1   0.5   20.0   50.0  0  0  1  1  \n",
              "194    12:35  27  12  -5.4  174.0   49.4  0  0  1  1  \n",
              "\n",
              "[7 rows x 30 columns]"
            ]
          },
          "execution_count": 7,
          "metadata": {},
          "output_type": "execute_result"
        }
      ],
      "source": [
        "hockey_df[(hockey_df['Pos'] == 'RW/C')].head(50)"
      ]
    },
    {
      "cell_type": "code",
      "execution_count": 8,
      "metadata": {},
      "outputs": [],
      "source": [
        "hockey_df = hockey_df.drop(columns=['Rk','Pos'])"
      ]
    },
    {
      "cell_type": "code",
      "execution_count": 10,
      "metadata": {},
      "outputs": [],
      "source": [
        "hockey_df.to_csv('Non_Goalie_data.csv', index=False)"
      ]
    }
  ],
  "metadata": {
    "colab": {
      "provenance": []
    },
    "kernelspec": {
      "display_name": "base",
      "language": "python",
      "name": "python3"
    },
    "language_info": {
      "codemirror_mode": {
        "name": "ipython",
        "version": 3
      },
      "file_extension": ".py",
      "mimetype": "text/x-python",
      "name": "python",
      "nbconvert_exporter": "python",
      "pygments_lexer": "ipython3",
      "version": "3.12.4"
    }
  },
  "nbformat": 4,
  "nbformat_minor": 0
}
