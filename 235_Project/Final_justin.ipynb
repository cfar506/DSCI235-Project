{
 "cells": [
  {
   "cell_type": "markdown",
   "id": "6ba0ca66",
   "metadata": {},
   "source": []
  },
  {
   "cell_type": "markdown",
   "id": "064c4ec1",
   "metadata": {},
   "source": [
    "# Age Curves in the NHL (2018-2024)\n",
    "\n",
    "## DSCI 235\n",
    "\n",
    "### Justin Eldridge, Cody Farris\n",
    "\n",
    "\n",
    "# Introduction\n",
    "\n",
    "We wanted to know how long players in various positions can expect to remain competitive in the NHL. We were specifically interested in how quickly player reach their peak performance, the age at which they peak, and how quickly different aspects of their performance declines with age. To accomplish this we decided to collect 5 seasons worth of skater and goalie data from pro-hockey-reference.com from 2018-2024. We then picked certain performance metrics and plotted them vs. age with a LOESS smoother to examine performance with increasing age.\n",
    "\n",
    "# Background\n",
    "\n",
    "There are 6 players on the ice at a given time. These consist of three offensive players (center, left wing, right wing), two defense men, and a goalie. \n",
    "\n",
    "\n",
    "# Data Acquisition and Cleaning:\n",
    "\n",
    "We collected the player and goalie data for each season as .txt files and read them into python. We then completed some exploratory data analysis and concluded that some of the player positions were labeled inconsitently. For example, some players were labeled as Forwards, while others were labeled as Centers despite this being the same position. We also found that some players filled multiple roles leading them to have multiple positions included. To fix this we created indicator variables for each position so that players who played multiple positions would be included in the graphs for each of those positions. With this cleaning complete we created an overall skater and overal goalie data frames containing the entire time series of data. With the collection and cleaning complete we moved on to picking performance metrics and plotting. \n",
    "\n",
    "# Performance Metrics:\n",
    "\n",
    "Goalies:\n",
    "* Save Percentage (SV%): Saves/ Total Shots\n",
    "* Goals Against Average (GAA): Total Goals Allowed per hour of play time.\n",
    "* Goals Saved Above Average (GSAA): Number of goals saved above league average given the number of shot attempts.\n",
    "* Goalie Point Shares (GPS): Estimated number of points contributed to team total due to defensive performance.\n",
    "\n",
    "Skaters:\n",
    "* Relative Corsi Percentage (CF%rel): Measures players impact on team puck posession and influence the number of shot attempts\n",
    "* Plus/Minus (+/-): Goals for - Goals against (while teams are at even strength).\n",
    "* Goals Plus Assists: Number of goals for + number of asissts.\n",
    "\n",
    "\n",
    "# Plotting and LOESS\n",
    "\n",
    "We decided to employ LOESS (Locally Estimated Scatterplot Smoothing) to capture any trend in player performance. We employed the lowess() function from the statsmodels package and then also used boostrap sampling to calculated a 95% confidence interval. There is a smoothing parameter in the LOESS model, which we called frac_val, that controls how much of the surrounding data is used to shape the curve. A large smoothing parameter results in more of the surrounding data being considered as the curve is shaped. This means that it is less sensitive to outliers but may not be flexible enough to capture the relationship. On the other hand a small smoothing parameter ($\\approx$ 0.1) makes the curve much more flexible, making it better equpped to capture local detail. However this can also make it prone to overfitting as we will see. \n",
    "\n",
    "# Code:\n",
    "\n",
    "\n",
    "\n",
    "\n",
    "\n",
    "\n"
   ]
  },
  {
   "cell_type": "code",
   "execution_count": 2,
   "id": "1707a795",
   "metadata": {},
   "outputs": [],
   "source": [
    "#Import the appropriate libraries:\n",
    "import numpy as np\n",
    "import pandas as pd\n",
    "import matplotlib.pyplot as plt\n",
    "#Import the package for LOESS\n",
    "import statsmodels.api as sm\n",
    "import os\n",
    "\n",
    "#Set the working directory\n",
    "os.chdir(\"C:\\\\Users\\\\justi\\\\Desktop\\\\2025\\\\DSCI 235\\\\DSCI235-Project\\\\235_Project\")"
   ]
  },
  {
   "cell_type": "markdown",
   "id": "58f41bc5",
   "metadata": {},
   "source": [
    "## Data Cleaning and Creation:\n",
    "\n",
    "### Goalie Data:"
   ]
  },
  {
   "cell_type": "code",
   "execution_count": 3,
   "id": "7ed3ea1f",
   "metadata": {},
   "outputs": [
    {
     "name": "stdout",
     "output_type": "stream",
     "text": [
      "   Rk             Player   Age Team Pos  GP  GS   W   L  T/O  ...   GA%-  \\\n",
      "0   1       Devan Dubnyk  32.0  MIN   G  67  66  31  28    6  ...   96.0   \n",
      "1   2        Carey Price  31.0  MTL   G  66  64  35  24    6  ...   92.0   \n",
      "2   3  Connor Hellebuyck  25.0  WPG   G  63  62  34  23    3  ...   97.0   \n",
      "3   4   Sergei Bobrovsky  30.0  CBJ   G  62  61  37  24    1  ...   97.0   \n",
      "4   5       Martin Jones  29.0  SJS   G  62  62  36  19    5  ...  115.0   \n",
      "\n",
      "   GSAA  GAA/A   GPS  G  A PTS  PIM            Awards      -9999  \n",
      "0   6.2   2.69  11.1  0  2   2    2               ASG  dubnyde01  \n",
      "1  14.9   2.64  12.5  0  1   1    2   ASnhl-3Vezina-7  priceca01  \n",
      "2   5.9   3.09  12.1  0  3   3    4               NaN  helleco01  \n",
      "3   5.3   2.75  10.4  0  0   0    2  ASnhl-11Vezina-9  bobrose01  \n",
      "4 -22.9   3.14   7.0  0  1   1    2               NaN  jonesma02  \n",
      "\n",
      "[5 rows x 30 columns]\n"
     ]
    }
   ],
   "source": [
    "#Load in the data\n",
    "df1= pd.read_csv(\"C:\\\\Users\\\\justi\\\\Desktop\\\\2025\\\\DSCI 235\\\\DSCI235-Project\\\\235_Project\\\\csv\\\\Goalies 18-19.txt\")\n",
    "df2= pd.read_csv(\"C:\\\\Users\\\\justi\\\\Desktop\\\\2025\\\\DSCI 235\\\\DSCI235-Project\\\\235_Project\\\\csv\\\\Goalies 19-20.txt\")\n",
    "df3= pd.read_csv(\"C:\\\\Users\\\\justi\\\\Desktop\\\\2025\\\\DSCI 235\\\\DSCI235-Project\\\\235_Project\\\\csv\\\\Goalies 20-21.txt\")\n",
    "df4= pd.read_csv(\"C:\\\\Users\\\\justi\\\\Desktop\\\\2025\\\\DSCI 235\\\\DSCI235-Project\\\\235_Project\\\\csv\\\\Goalies 21-22.txt\")\n",
    "df5= pd.read_csv(\"C:\\\\Users\\\\justi\\\\Desktop\\\\2025\\\\DSCI 235\\\\DSCI235-Project\\\\235_Project\\\\csv\\\\Goalies 22-23.txt\")\n",
    "df6= pd.read_csv(\"C:\\\\Users\\\\justi\\\\Desktop\\\\2025\\\\DSCI 235\\\\DSCI235-Project\\\\235_Project\\\\csv\\\\Goalies 23-24.txt\")\n",
    "\n",
    "#Combine the data sets into a single data frame\n",
    "goalie_df = pd.concat([df1, df2, df3, df4,df5, df6], axis=0)\n",
    "\n",
    "#View the results\n",
    "print(goalie_df.head())\n",
    "\n",
    "#Drop the last column\n",
    "goalie_df = goalie_df.drop(columns=['-9999'])\n",
    "\n",
    "\n",
    "#Save the results to a csv file \n",
    "goalie_df.to_csv(\"goalie_data.csv\")"
   ]
  },
  {
   "cell_type": "markdown",
   "id": "752b1893",
   "metadata": {},
   "source": [
    "### Skater Data:"
   ]
  },
  {
   "cell_type": "code",
   "execution_count": null,
   "id": "592bf29b",
   "metadata": {},
   "outputs": [
    {
     "name": "stdout",
     "output_type": "stream",
     "text": [
      "   Rk             Player  Age   Tm Pos  GP   CF   CA   CF%  CF% rel  ...  \\\n",
      "0   1  Justin Abdelkader   32  DET  LW  49  348  439  44.2     -1.9  ...   \n",
      "1   2       Pontus Åberg   26  TOR  LW   5   31   50  38.3    -18.2  ...   \n",
      "2   3     Vitaly Abramov   21  OTT  RW   2   11   17  39.3    -14.7  ...   \n",
      "3   4       Noel Acciari   28  FLA   C  66  790  894  46.9     -3.5  ...   \n",
      "4   5    Andrew Agozzino   29  TOT  LW  22  127  104  55.0      8.0  ...   \n",
      "\n",
      "   oZS%  dZS%  TOI/60  TOI(EV)  TK  GV  E+/-  SAtt.  Thru%      -9999  \n",
      "0  43.3  56.7   11:32     9:48  10  18  -5.5   76.0   52.6  abdelju01  \n",
      "1  60.0  40.0    8:42     8:42   1   2  -1.0    5.0   80.0  abergpo01  \n",
      "2  33.3  66.7    5:47     5:47   0   1  -0.3    4.0   75.0  abramvi01  \n",
      "3  38.6  61.4   15:57    13:08  32  21  -7.0  189.0   57.1  acciano01  \n",
      "4  53.4  46.6    7:21     6:49   5   4  -0.4    NaN    NaN  agozzan01  \n",
      "\n",
      "[5 rows x 27 columns]\n"
     ]
    }
   ],
   "source": [
    "h1 = pd.read_csv('C:\\\\Users\\\\justi\\\\Desktop\\\\2025\\\\DSCI 235\\\\DSCI235-Project\\\\235_Project\\\\csv\\\\1819_Hockey.txt')\n",
    "h2 = pd.read_csv('csv/1920_Hockey.txt')\n",
    "h3 = pd.read_csv('csv/2021_Hockey.txt')\n",
    "h4 = pd.read_csv('csv/21-22 Season.txt')\n",
    "h5 = pd.read_csv('csv/2223_Hockey.txt')\n",
    "h6 = pd.read_csv('csv/23-24 Season.txt')\n",
    "\n",
    "#Equivalent of Cbind in r\n",
    "#pd.concat([a,b], axis=1)\n",
    "\n",
    "hockey_df = pd.concat([h1,h2,h3,h4,h5,h6], axis=0)\n",
    "hockey_df = hockey_df.drop(columns = ['-9999'])\n",
    "\n",
    "\n",
    "\n",
    "\n"
   ]
  },
  {
   "cell_type": "markdown",
   "id": "47b9f7f6",
   "metadata": {},
   "source": [
    "We wanted to dermine how many players there were for each position. We found that the naming conventions were not consistent. Despite Center and Forward being the same position they are enconded differently. We also found that some players fill multiple roles. "
   ]
  },
  {
   "cell_type": "code",
   "execution_count": 6,
   "id": "6aba6c35",
   "metadata": {},
   "outputs": [
    {
     "name": "stdout",
     "output_type": "stream",
     "text": [
      "Pos\n",
      "D        2232\n",
      "C        1995\n",
      "LW       1034\n",
      "RW        832\n",
      "F         213\n",
      "C/LW       69\n",
      "C/RW       45\n",
      "LW/C       21\n",
      "W          16\n",
      "C/W        12\n",
      "D/RW       11\n",
      "RW/C        7\n",
      "LW/RW       2\n",
      "W/C         1\n",
      "Name: count, dtype: int64\n"
     ]
    }
   ],
   "source": [
    "hockey_df['Pos'].unique()\n",
    "\n",
    "#To get the number of players in each position hockey_df['Pos'].value_counts()\n",
    "print(hockey_df['Pos'].value_counts())"
   ]
  },
  {
   "cell_type": "markdown",
   "id": "2da1ac7f",
   "metadata": {},
   "source": [
    "To fix this we decided to create indicator variable for each position. This way if a player played as a Center and a Right Wing, there data will be included in both graphs. Since we now had indicators "
   ]
  },
  {
   "cell_type": "markdown",
   "id": "66f6d6b4",
   "metadata": {},
   "source": [
    "hockey_df['F'] = np.where(hockey_df['Pos'].str.contains('F'), 1, 0)\n",
    "hockey_df['D'] = np.where(hockey_df['Pos'].str.contains('D'), 1, 0)\n",
    "hockey_df['C'] = np.where(hockey_df['Pos'].str.contains('C'), 1, 0)\n",
    "hockey_df['W'] = np.where(hockey_df['Pos'].str.contains('W'), 1, 0)\n",
    "\n",
    "hockey_df = hockey_df.drop(columns=['Rk','Pos'])"
   ]
  },
  {
   "cell_type": "markdown",
   "id": "a0d9ad92",
   "metadata": {},
   "source": [
    "# Results\n",
    "\n",
    "# Goalies:\n",
    "\n",
    "## Save Percentage Vs. Age"
   ]
  }
 ],
 "metadata": {
  "kernelspec": {
   "display_name": "base",
   "language": "python",
   "name": "python3"
  },
  "language_info": {
   "codemirror_mode": {
    "name": "ipython",
    "version": 3
   },
   "file_extension": ".py",
   "mimetype": "text/x-python",
   "name": "python",
   "nbconvert_exporter": "python",
   "pygments_lexer": "ipython3",
   "version": "3.12.7"
  }
 },
 "nbformat": 4,
 "nbformat_minor": 5
}
