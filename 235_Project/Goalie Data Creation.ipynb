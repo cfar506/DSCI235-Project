{
 "cells": [
  {
   "cell_type": "code",
   "execution_count": null,
   "id": "4668856d",
   "metadata": {},
   "outputs": [],
   "source": []
  },
  {
   "cell_type": "markdown",
   "id": "f459a1c4",
   "metadata": {},
   "source": [
    "# Goalie Data Frame Creation\n"
   ]
  },
  {
   "cell_type": "code",
   "execution_count": 3,
   "id": "7d100a07",
   "metadata": {},
   "outputs": [],
   "source": [
    "#Import appropriate packages\n",
    "import numpy as np\n",
    "import pandas as pd\n",
    "import os\n"
   ]
  },
  {
   "cell_type": "code",
   "execution_count": 5,
   "id": "173737dd",
   "metadata": {},
   "outputs": [],
   "source": [
    "#Set the working directory\n",
    "os.chdir(\"C:\\\\Users\\\\justi\\\\Desktop\\\\2025\\\\DSCI 235\\\\DSCI235-Project\\\\235_Project\")"
   ]
  },
  {
   "cell_type": "code",
   "execution_count": 13,
   "id": "fd7ed170",
   "metadata": {},
   "outputs": [
    {
     "name": "stdout",
     "output_type": "stream",
     "text": [
      "   Rk             Player   Age Team Pos  GP  GS   W   L  T/O  ...   GA%-  \\\n",
      "0   1       Devan Dubnyk  32.0  MIN   G  67  66  31  28    6  ...   96.0   \n",
      "1   2        Carey Price  31.0  MTL   G  66  64  35  24    6  ...   92.0   \n",
      "2   3  Connor Hellebuyck  25.0  WPG   G  63  62  34  23    3  ...   97.0   \n",
      "3   4   Sergei Bobrovsky  30.0  CBJ   G  62  61  37  24    1  ...   97.0   \n",
      "4   5       Martin Jones  29.0  SJS   G  62  62  36  19    5  ...  115.0   \n",
      "\n",
      "   GSAA  GAA/A   GPS  G  A PTS  PIM            Awards      -9999  \n",
      "0   6.2   2.69  11.1  0  2   2    2               ASG  dubnyde01  \n",
      "1  14.9   2.64  12.5  0  1   1    2   ASnhl-3Vezina-7  priceca01  \n",
      "2   5.9   3.09  12.1  0  3   3    4               NaN  helleco01  \n",
      "3   5.3   2.75  10.4  0  0   0    2  ASnhl-11Vezina-9  bobrose01  \n",
      "4 -22.9   3.14   7.0  0  1   1    2               NaN  jonesma02  \n",
      "\n",
      "[5 rows x 30 columns]\n"
     ]
    }
   ],
   "source": [
    "#Load in the data\n",
    "df1= pd.read_csv(\"C:\\\\Users\\\\justi\\\\Desktop\\\\2025\\\\DSCI 235\\\\DSCI235-Project\\\\235_Project\\\\csv\\\\Goalies 18-19.txt\")\n",
    "df2= pd.read_csv(\"C:\\\\Users\\\\justi\\\\Desktop\\\\2025\\\\DSCI 235\\\\DSCI235-Project\\\\235_Project\\\\csv\\\\Goalies 19-20.txt\")\n",
    "df3= pd.read_csv(\"C:\\\\Users\\\\justi\\\\Desktop\\\\2025\\\\DSCI 235\\\\DSCI235-Project\\\\235_Project\\\\csv\\\\Goalies 20-21.txt\")\n",
    "df4= pd.read_csv(\"C:\\\\Users\\\\justi\\\\Desktop\\\\2025\\\\DSCI 235\\\\DSCI235-Project\\\\235_Project\\\\csv\\\\Goalies 21-22.txt\")\n",
    "df5= pd.read_csv(\"C:\\\\Users\\\\justi\\\\Desktop\\\\2025\\\\DSCI 235\\\\DSCI235-Project\\\\235_Project\\\\csv\\\\Goalies 22-23.txt\")\n",
    "df6= pd.read_csv(\"C:\\\\Users\\\\justi\\\\Desktop\\\\2025\\\\DSCI 235\\\\DSCI235-Project\\\\235_Project\\\\csv\\\\Goalies 23-24.txt\")\n",
    "\n",
    "#Combine the data sets into a single data frame\n",
    "goalie_df = pd.concat([df1, df2, df3, df4,df5, df6], axis=0)\n",
    "\n",
    "#View the results\n",
    "print(goalie_df.head())\n",
    "\n",
    "#Drop the last column\n",
    "goalie_df = goalie_df.drop(columns=['-9999'])\n",
    "\n",
    "\n",
    "#Save the results to a csv file \n",
    "goalie_df.to_csv(\"goalie_data.csv\")\n"
   ]
  },
  {
   "cell_type": "code",
   "execution_count": null,
   "id": "5f3a1636",
   "metadata": {},
   "outputs": [],
   "source": []
  }
 ],
 "metadata": {
  "kernelspec": {
   "display_name": "base",
   "language": "python",
   "name": "python3"
  },
  "language_info": {
   "codemirror_mode": {
    "name": "ipython",
    "version": 3
   },
   "file_extension": ".py",
   "mimetype": "text/x-python",
   "name": "python",
   "nbconvert_exporter": "python",
   "pygments_lexer": "ipython3",
   "version": "3.12.7"
  }
 },
 "nbformat": 4,
 "nbformat_minor": 5
}
